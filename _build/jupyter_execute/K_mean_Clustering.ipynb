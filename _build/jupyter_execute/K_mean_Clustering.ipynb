{
 "cells": [
  {
   "cell_type": "markdown",
   "metadata": {
    "id": "mZ3wysSaU6z8"
   },
   "source": [
    "# TF -IDF & K-Means Clustering"
   ]
  },
  {
   "cell_type": "markdown",
   "metadata": {
    "id": "AEoNbuLaVBUQ"
   },
   "source": [
    "## Import Library\n",
    "\n",
    "### Library yang digunakan\n",
    "\n",
    "- **Pandas**\n",
    "\n",
    "- **PySastrawi**\n",
    "\n",
    "- **scikit-learn**"
   ]
  },
  {
   "cell_type": "code",
   "execution_count": 1,
   "metadata": {
    "id": "ai4GFQPY0Msk"
   },
   "outputs": [],
   "source": [
    "import pandas as pd\n",
    "from sklearn.decomposition import PCA\n",
    "import matplotlib.pyplot as plt\n",
    "from sklearn.cluster import KMeans"
   ]
  },
  {
   "cell_type": "markdown",
   "metadata": {
    "id": "mu6TBTiHzuWp"
   },
   "source": [
    "## Dimentional Reduction - PCA "
   ]
  },
  {
   "cell_type": "markdown",
   "metadata": {
    "id": "6VOharyHmwcU"
   },
   "source": [
    "## PCA (Principal Component Analysis)\n",
    "\n",
    "Analisis Komponen Utama (Principal Component Analysis) adalah analisis multivariate yang mentransformasi variabel-variabel asal yang saling berkorelasi menjadi variabel-variabel baru yang tidak saling berkorelasi dengan mereduksi sejumlah variabel tersebut sehingga mempunyai dimensi yang lebih kecil namun dapat menerangkan sebagian besar keragaman variabel aslinya.\n",
    "\n",
    "Banyaknya komponen utama yang terbentuk sama dengan banyaknya variabel asli. Pereduksian (penyederhanaan) dimensi dilakukan dengan kriteria persentase keragaman data yang diterangkan oleh beberapa komponen utama pertama. Apabila beberapa komponen utama pertama telah menerangkan lebih dari 75% keragaman data asli, maka analisis cukup dilakukan sampai dengan komponen utama tersebut. \n",
    "\n",
    "Bila komponen utama diturunkan dari populasi multivariat normal dengan random vektor **X** = (*X1, X2,… , Xp*) dan vektor rata-rata *μ* = (*μ1, μ2, … , μp*) dan matriks kovarians **Σ** dengan akar ciri (*eigenvalue*) yaitu *λ1 ≥ λ2 ≥ ⋯ ≥ λp ≥ 0* didapat kombinasi linier komponen utama yaitu sebagai berikut.\n",
    "\n",
    "$$Y_{1}=e_{1}^{\\prime} X=e_{11}^{\\prime} X_{1}+e_{21}^{\\prime} X_{2}+\\cdots+e_{p 1}^{\\prime} X_{p}$$\n",
    "\n",
    "$$Y_{2}=e_{2}^{\\prime} X=e_{12}^{\\prime} X_{1}+e_{22}^{\\prime} X_{2}+\\cdots+e_{p 2}^{\\prime} X_{p}$$\n",
    "$$\\vdots$$\n",
    "\n",
    "$$Y_{p}=e_{p}^{\\prime} X=e_{1 p}^{\\prime} X_{1}+e_{2 p}^{\\prime} X_{p}+\\cdots+e_{p p}^{\\prime} X_{p}$$\n",
    "\n",
    "\n",
    "Maka Var(*Yi*) = *ei'Σei* dan Cov(*Yi,Yk*) = *ei'Σei* dimana *i,k* = 1, 2, ... , *p*.\n",
    "\n",
    "Syarat untuk membentuk komponen utama yang merupakan kombinasi linear dari variabel **X** agar mempunyai varian maksimum adalah dengan memilih vektor ciri (*eigen vector*) yaitu *e* = (*e1, e2, …, ep*) sedemikian hingga Var(*Yi*) = *ei'Σei* maksimum dan *ei'ei* = 1.\n",
    "\n",
    "- Komponen utama pertama adalah kombinasi linear *e1'X* yang memaksimumkan Var(*e1'X*) dengan syarat *e1'e1* = 1.\n",
    "\n",
    "- Komponen utama kedua adalah kombinasi linear *e2'X* yang memaksimumkan Var(*e2'X*) dengan syarat *e2'e2* = 1.\n",
    "\n",
    "- Komponen utama ke-i adalah kombinasi linear *ei'X* yang memaksimumkan Var(*ei'X*) dengan syarat *ei'ek* = 1 dan Cov(*ei'ek*)=0 untuk k < 1.\n",
    "\n",
    "Antar komponen utama tersebut tidak berkorelasi dan mempunyai variasi yang sama dengan akar ciri dari **Σ**. Akar ciri dari matriks ragam peragam **Σ** merupakan varian dari komponen utama **Y**, sehingga matriks ragam peragam dari **Y** adalah:\n",
    "\n",
    "\n",
    "Total keragaman variabel asal akan sama dengan total keragaman yang diterangkan oleh komponen utama yaitu:\n",
    "\n",
    "$$\\sum_{J=1}^{P} \\operatorname{var}\\left(X_{i}\\right)=\\operatorname{tr}(\\Sigma)=\\lambda_{1}+\\lambda_{2}+\\cdots+\\lambda_{p}=\\sum_{J=1}^{P} \\operatorname{var}\\left(Y_{i}\\right)$$\n",
    "\n",
    "Penyusutan dimensi dari variabel asal dilakukan dengan mengambil sejumlah kecil komponen yang mampu menerangkan bagian terbesar keragaman data. Apabila komponen utama yang diambil sebanyak *q* komponen, dimana *q < p*, maka proporsi dari keragaman total yang bisa diterangkan oleh komponen utama ke-*i* adalah:\n",
    "\n",
    "$$\\frac{\\lambda_{i}}{\\lambda_{1}+\\lambda_{2}+\\cdots+\\lambda_{p}} \\quad i=1,2, \\ldots, p$$\n",
    "\n",
    "Penurunan komponen utama dari matriks korelasi dilakukan apabila data sudah terlebih dahulu ditransformasikan ke dalam bentuk baku **Z**. Transformasi ini dilakukan terhadap data yang satuan pengamatannya tidak sama. Bila variabel yang diamati ukurannya pada skala dengan perbedaan yang sangat lebar atau satuan ukurannya tidak sama, maka variabel tersebut perlu dibakukan (*standardized*).\n",
    "\n",
    "Variabel baku (**Z**) didapat dari transformasi terhadap variabel asal dalam matriks berikut:\n",
    "\n",
    "$$Z=\\left(V^{1 / 2}\\right)^{-1}(X-\\mu)$$\n",
    "\n",
    "**V1** <sup>1/2</sup> adalah matriks simpangan baku dengan unsur diagonal utama adalah (αii)<sup>1/2</sup> sedangkan unsur lainnya adalah nol. Nilai harapan E(**Z**) = 0 dan keragamannya adalah\n",
    "\n",
    "$$\\operatorname{Cov}(\\mathbf{Z})=\\left(\\mathbf{V}^{1 / 2}\\right)^{-1} \\Sigma\\left(\\mathbf{V}^{1 / 2}\\right)^{-1}=\\rho$$\n",
    "\n",
    "Dengan demikian komponen utama dari Z dapat ditentukan dari vektor ciri yang didapat melalui matriks korelasi variabel asal *ρ*. Untuk mencari akar ciri dan menentukan vektor pembobotnya sama seperti pada matriks **Σ**. Sementara trace matriks korelasi *ρ* akan sama dengan jumlah *p* variabel yang dipakai.\n",
    "\n",
    "Pemilihan komponen utama yang digunakan didasarkan pada nilai akar cirinya, yaitu komponen utama akan digunakan jika akar cirinya lebih besar dari satu."
   ]
  },
  {
   "cell_type": "markdown",
   "metadata": {
    "id": "-79fkzyCzuWu"
   },
   "source": [
    "### import Data"
   ]
  },
  {
   "cell_type": "code",
   "execution_count": 2,
   "metadata": {
    "colab": {
     "base_uri": "https://localhost:8080/",
     "height": 236
    },
    "id": "DeDbVojwzuWv",
    "outputId": "622629dd-5940-4e83-a9c1-4c17473cd0ca"
   },
   "outputs": [
    {
     "data": {
      "text/html": [
       "<div>\n",
       "<style scoped>\n",
       "    .dataframe tbody tr th:only-of-type {\n",
       "        vertical-align: middle;\n",
       "    }\n",
       "\n",
       "    .dataframe tbody tr th {\n",
       "        vertical-align: top;\n",
       "    }\n",
       "\n",
       "    .dataframe thead th {\n",
       "        text-align: right;\n",
       "    }\n",
       "</style>\n",
       "<table border=\"1\" class=\"dataframe\">\n",
       "  <thead>\n",
       "    <tr style=\"text-align: right;\">\n",
       "      <th></th>\n",
       "      <th>Unnamed: 0</th>\n",
       "      <th>abidin</th>\n",
       "      <th>abtrak</th>\n",
       "      <th>accidental</th>\n",
       "      <th>acer</th>\n",
       "      <th>action</th>\n",
       "      <th>adaro</th>\n",
       "      <th>adira</th>\n",
       "      <th>adjusted</th>\n",
       "      <th>administrasi</th>\n",
       "      <th>...</th>\n",
       "      <th>wildansemsi</th>\n",
       "      <th>windows</th>\n",
       "      <th>wispandonosems</th>\n",
       "      <th>with</th>\n",
       "      <th>xl</th>\n",
       "      <th>xterhadap</th>\n",
       "      <th>yakin</th>\n",
       "      <th>yamaha</th>\n",
       "      <th>yustina</th>\n",
       "      <th>zscore</th>\n",
       "    </tr>\n",
       "  </thead>\n",
       "  <tbody>\n",
       "    <tr>\n",
       "      <th>0</th>\n",
       "      <td>1</td>\n",
       "      <td>0.0</td>\n",
       "      <td>0.0</td>\n",
       "      <td>0.000000</td>\n",
       "      <td>0.0</td>\n",
       "      <td>0.0</td>\n",
       "      <td>0.0</td>\n",
       "      <td>0.0</td>\n",
       "      <td>0.00000</td>\n",
       "      <td>0.0</td>\n",
       "      <td>...</td>\n",
       "      <td>0.0</td>\n",
       "      <td>0.0</td>\n",
       "      <td>0.0</td>\n",
       "      <td>0.0</td>\n",
       "      <td>0.0</td>\n",
       "      <td>0.0</td>\n",
       "      <td>0.0</td>\n",
       "      <td>0.0</td>\n",
       "      <td>0.0</td>\n",
       "      <td>0.0</td>\n",
       "    </tr>\n",
       "    <tr>\n",
       "      <th>1</th>\n",
       "      <td>2</td>\n",
       "      <td>0.0</td>\n",
       "      <td>0.0</td>\n",
       "      <td>0.075176</td>\n",
       "      <td>0.0</td>\n",
       "      <td>0.0</td>\n",
       "      <td>0.0</td>\n",
       "      <td>0.0</td>\n",
       "      <td>0.00000</td>\n",
       "      <td>0.0</td>\n",
       "      <td>...</td>\n",
       "      <td>0.0</td>\n",
       "      <td>0.0</td>\n",
       "      <td>0.0</td>\n",
       "      <td>0.0</td>\n",
       "      <td>0.0</td>\n",
       "      <td>0.0</td>\n",
       "      <td>0.0</td>\n",
       "      <td>0.0</td>\n",
       "      <td>0.0</td>\n",
       "      <td>0.0</td>\n",
       "    </tr>\n",
       "    <tr>\n",
       "      <th>2</th>\n",
       "      <td>3</td>\n",
       "      <td>0.0</td>\n",
       "      <td>0.0</td>\n",
       "      <td>0.000000</td>\n",
       "      <td>0.0</td>\n",
       "      <td>0.0</td>\n",
       "      <td>0.0</td>\n",
       "      <td>0.0</td>\n",
       "      <td>0.00000</td>\n",
       "      <td>0.0</td>\n",
       "      <td>...</td>\n",
       "      <td>0.0</td>\n",
       "      <td>0.0</td>\n",
       "      <td>0.0</td>\n",
       "      <td>0.0</td>\n",
       "      <td>0.0</td>\n",
       "      <td>0.0</td>\n",
       "      <td>0.0</td>\n",
       "      <td>0.0</td>\n",
       "      <td>0.0</td>\n",
       "      <td>0.0</td>\n",
       "    </tr>\n",
       "    <tr>\n",
       "      <th>3</th>\n",
       "      <td>4</td>\n",
       "      <td>0.0</td>\n",
       "      <td>0.0</td>\n",
       "      <td>0.000000</td>\n",
       "      <td>0.0</td>\n",
       "      <td>0.0</td>\n",
       "      <td>0.0</td>\n",
       "      <td>0.0</td>\n",
       "      <td>0.05882</td>\n",
       "      <td>0.0</td>\n",
       "      <td>...</td>\n",
       "      <td>0.0</td>\n",
       "      <td>0.0</td>\n",
       "      <td>0.0</td>\n",
       "      <td>0.0</td>\n",
       "      <td>0.0</td>\n",
       "      <td>0.0</td>\n",
       "      <td>0.0</td>\n",
       "      <td>0.0</td>\n",
       "      <td>0.0</td>\n",
       "      <td>0.0</td>\n",
       "    </tr>\n",
       "    <tr>\n",
       "      <th>4</th>\n",
       "      <td>5</td>\n",
       "      <td>0.0</td>\n",
       "      <td>0.0</td>\n",
       "      <td>0.000000</td>\n",
       "      <td>0.0</td>\n",
       "      <td>0.0</td>\n",
       "      <td>0.0</td>\n",
       "      <td>0.0</td>\n",
       "      <td>0.00000</td>\n",
       "      <td>0.0</td>\n",
       "      <td>...</td>\n",
       "      <td>0.0</td>\n",
       "      <td>0.0</td>\n",
       "      <td>0.0</td>\n",
       "      <td>0.0</td>\n",
       "      <td>0.0</td>\n",
       "      <td>0.0</td>\n",
       "      <td>0.0</td>\n",
       "      <td>0.0</td>\n",
       "      <td>0.0</td>\n",
       "      <td>0.0</td>\n",
       "    </tr>\n",
       "  </tbody>\n",
       "</table>\n",
       "<p>5 rows × 1006 columns</p>\n",
       "</div>"
      ],
      "text/plain": [
       "   Unnamed: 0  abidin  abtrak  accidental  acer  action  adaro  adira  \\\n",
       "0           1     0.0     0.0    0.000000   0.0     0.0    0.0    0.0   \n",
       "1           2     0.0     0.0    0.075176   0.0     0.0    0.0    0.0   \n",
       "2           3     0.0     0.0    0.000000   0.0     0.0    0.0    0.0   \n",
       "3           4     0.0     0.0    0.000000   0.0     0.0    0.0    0.0   \n",
       "4           5     0.0     0.0    0.000000   0.0     0.0    0.0    0.0   \n",
       "\n",
       "   adjusted  administrasi  ...  wildansemsi  windows  wispandonosems  with  \\\n",
       "0   0.00000           0.0  ...          0.0      0.0             0.0   0.0   \n",
       "1   0.00000           0.0  ...          0.0      0.0             0.0   0.0   \n",
       "2   0.00000           0.0  ...          0.0      0.0             0.0   0.0   \n",
       "3   0.05882           0.0  ...          0.0      0.0             0.0   0.0   \n",
       "4   0.00000           0.0  ...          0.0      0.0             0.0   0.0   \n",
       "\n",
       "    xl  xterhadap  yakin  yamaha  yustina  zscore  \n",
       "0  0.0        0.0    0.0     0.0      0.0     0.0  \n",
       "1  0.0        0.0    0.0     0.0      0.0     0.0  \n",
       "2  0.0        0.0    0.0     0.0      0.0     0.0  \n",
       "3  0.0        0.0    0.0     0.0      0.0     0.0  \n",
       "4  0.0        0.0    0.0     0.0      0.0     0.0  \n",
       "\n",
       "[5 rows x 1006 columns]"
      ]
     },
     "execution_count": 2,
     "metadata": {},
     "output_type": "execute_result"
    }
   ],
   "source": [
    "#import data frame\n",
    "df = pd.read_csv(\"Hasil_TF-IDF.csv\")\n",
    "#df = df.drop(\"Unnamed: 0\", axis=1)\n",
    "df.head(5)"
   ]
  },
  {
   "cell_type": "code",
   "execution_count": 3,
   "metadata": {
    "colab": {
     "base_uri": "https://localhost:8080/"
    },
    "id": "5Eh3Uh_szuWx",
    "outputId": "a03076bf-a618-41b6-e048-1deeb803fbce"
   },
   "outputs": [
    {
     "data": {
      "text/plain": [
       "(49, 1006)"
      ]
     },
     "execution_count": 3,
     "metadata": {},
     "output_type": "execute_result"
    }
   ],
   "source": [
    "df.shape"
   ]
  },
  {
   "cell_type": "markdown",
   "metadata": {
    "id": "INmeFIWzzuWx"
   },
   "source": [
    "### Dimentional reduction PCA"
   ]
  },
  {
   "cell_type": "markdown",
   "metadata": {
    "id": "D7znXACG1Ve1"
   },
   "source": [
    "Mencari n Componen trbaik"
   ]
  },
  {
   "cell_type": "code",
   "execution_count": 4,
   "metadata": {
    "colab": {
     "base_uri": "https://localhost:8080/"
    },
    "id": "U3rj1unhzuWy",
    "outputId": "bd7aa593-13b3-46d3-9d2d-a2eeabb1f7f0"
   },
   "outputs": [
    {
     "name": "stdout",
     "output_type": "stream",
     "text": [
      "[0.99555591 0.99578909 0.9959962  0.99616746 0.99632308 0.99646927\n",
      " 0.99661323 0.9967454  0.99686925 0.99699066 0.9971114  0.99722742\n",
      " 0.99734161 0.99745125 0.99755828 0.99766293 0.99776563 0.99786804\n",
      " 0.99796888 0.99806681 0.99816318 0.99825804 0.99834918 0.99843867\n",
      " 0.99852741 0.99861388 0.99869902 0.99878319 0.99886596 0.99894752\n",
      " 0.99902318 0.9990972  0.9991703  0.99924186 0.99931293 0.99938207\n",
      " 0.99944817 0.99951199 0.99957378 0.99963494 0.99969325 0.99974968\n",
      " 0.99980335 0.99985546 0.99990223 0.99994238 0.99997926 1.\n",
      " 1.        ]\n",
      "(49,)\n"
     ]
    }
   ],
   "source": [
    "# melihat n_component terbaik\n",
    "# dengan cumulative explained variance\n",
    "pca = PCA().fit(df)\n",
    "cmv = pca.explained_variance_ratio_.cumsum()\n",
    "print(cmv)\n",
    "print(cmv.shape)"
   ]
  },
  {
   "cell_type": "markdown",
   "metadata": {
    "id": "RxFvXeuF1CkS"
   },
   "source": [
    "Melakukan Reduksi dimensi sebesar 10 componen"
   ]
  },
  {
   "cell_type": "code",
   "execution_count": 5,
   "metadata": {
    "colab": {
     "base_uri": "https://localhost:8080/"
    },
    "id": "KTPd37U5zuWz",
    "outputId": "08a8e817-c9e3-4de8-e912-1edb1345d509"
   },
   "outputs": [
    {
     "data": {
      "text/plain": [
       "(49, 10)"
      ]
     },
     "execution_count": 5,
     "metadata": {},
     "output_type": "execute_result"
    }
   ],
   "source": [
    "# proses reduksi dimensi\n",
    "pca = PCA(n_components=10)\n",
    "X_df = pca.fit_transform(df)\n",
    "X_df.shape"
   ]
  },
  {
   "cell_type": "markdown",
   "metadata": {
    "id": "_dLRbudazuW0"
   },
   "source": [
    "## K-Means - Clustering"
   ]
  },
  {
   "cell_type": "markdown",
   "metadata": {
    "id": "WPA5BjGS335i"
   },
   "source": [
    "K-Means Clustering merupakan algoritma yang efektif untuk menentukan cluster dalam sekumpulan data, di mana pada algortima tersebut dilakukan analisis kelompok yang mengacu pada pemartisian N objek ke dalam K kelompok (Cluster) berdasarkan nilai rata-rata (means) terdekat. Adapun persamaan yang sering digunakan dalam pemecahan masalah dalam menentukan jarak terdekat adalah persamaan Euclidean berikut :\n",
    "\n",
    "$$d(p, q)=\\sqrt{\\left(p_{1}-q_{1}\\right)^{2}+\\left(p_{2}-q_{2}\\right)^{2}+\\left(p_{3}-q_{3}\\right)^{2}}$$\n",
    "Keterangan:\\\n",
    "*d* = jarak obyek\\\n",
    "*p* = data\\\n",
    "*q* = centroid"
   ]
  },
  {
   "cell_type": "code",
   "execution_count": 6,
   "metadata": {
    "colab": {
     "base_uri": "https://localhost:8080/",
     "height": 295
    },
    "id": "AjShv9R1zuW0",
    "outputId": "e6e1e7cb-22e2-40bb-fafb-bddc60f06f4b"
   },
   "outputs": [
    {
     "data": {
      "image/png": "[encoded data removed]",
      "text/plain": [
       "<Figure size 432x288 with 1 Axes>"
      ]
     },
     "metadata": {
      "filenames": {
       "image/png": "C:\\xampp\\htdocs\\PPW\\PPw\\_build\\jupyter_execute\\K_mean_Clustering_15_0.png"
      },
      "needs_background": "light"
     },
     "output_type": "display_data"
    }
   ],
   "source": [
    "elbow = []\n",
    "for i in range(1, 11):\n",
    "    kmeans = KMeans(n_clusters=i, random_state=5)\n",
    "    kmeans.fit(X_df)\n",
    "    elbow.append(kmeans.inertia_)\n",
    "plt.plot(range(1, 11), elbow, 'bx-')\n",
    "plt.title('Metode Elbow')\n",
    "plt.xlabel('Jumlah clusters')\n",
    "plt.ylabel('elbow')\n",
    "plt.show()"
   ]
  },
  {
   "cell_type": "code",
   "execution_count": 7,
   "metadata": {
    "colab": {
     "base_uri": "https://localhost:8080/"
    },
    "id": "uv7i0giIzuW1",
    "outputId": "d55158bd-0afc-43fb-b340-f84977023f95"
   },
   "outputs": [
    {
     "data": {
      "text/plain": [
       "array([1, 1, 1, 1, 1, 1, 1, 1, 1, 1, 1, 1, 1, 1, 1, 1, 1, 1, 1, 1, 1, 1,\n",
       "       1, 1, 1, 0, 0, 0, 0, 0, 0, 0, 0, 0, 0, 0, 0, 0, 0, 0, 0, 0, 0, 0,\n",
       "       0, 0, 0, 0, 0])"
      ]
     },
     "execution_count": 7,
     "metadata": {},
     "output_type": "execute_result"
    }
   ],
   "source": [
    "# kmeans clustering\n",
    "kmeans = KMeans(n_clusters=2, random_state=5) # 2 clusters\n",
    "kmeans.fit(X_df)\n",
    "y_kmeans = kmeans.predict(X_df)\n",
    "y_kmeans"
   ]
  },
  {
   "cell_type": "markdown",
   "metadata": {
    "id": "aUottnVs398T"
   },
   "source": [
    "Menampilkan Scatter data dari Kmeans"
   ]
  },
  {
   "cell_type": "code",
   "execution_count": 8,
   "metadata": {
    "colab": {
     "base_uri": "https://localhost:8080/",
     "height": 265
    },
    "id": "sVWTU3kbzuW1",
    "outputId": "5ef9f704-2312-4914-9838-67f781ce3a82"
   },
   "outputs": [
    {
     "data": {
      "image/png": "[encoded data removed]",
      "text/plain": [
       "<Figure size 432x288 with 1 Axes>"
      ]
     },
     "metadata": {
      "filenames": {
       "image/png": "C:\\xampp\\htdocs\\PPW\\PPw\\_build\\jupyter_execute\\K_mean_Clustering_18_0.png"
      },
      "needs_background": "light"
     },
     "output_type": "display_data"
    }
   ],
   "source": [
    "# ploting\n",
    "plt.scatter(X_df[:, 0], X_df[:, 1], c=y_kmeans);"
   ]
  }
 ],
 "metadata": {
  "colab": {
   "collapsed_sections": [],
   "name": "K-mean Clustering.ipynb",
   "provenance": []
  },
  "interpreter": {
   "hash": "8da01e5a71448ea74f54d88afa8911010d1d12e23bc7e103d40d5def4a09152c"
  },
  "kernelspec": {
   "display_name": "Python 3.9.9 64-bit",
   "language": "python",
   "name": "python3"
  },
  "language_info": {
   "codemirror_mode": {
    "name": "ipython",
    "version": 3
   },
   "file_extension": ".py",
   "mimetype": "text/x-python",
   "name": "python",
   "nbconvert_exporter": "python",
   "pygments_lexer": "ipython3",
   "version": "3.10.0"
  }
 },
 "nbformat": 4,
 "nbformat_minor": 0
}