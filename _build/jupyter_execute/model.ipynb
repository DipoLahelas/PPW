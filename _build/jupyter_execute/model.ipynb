{
 "cells": [
  {
   "cell_type": "markdown",
   "metadata": {
    "_uuid": "9341bf79ac503efb2b0c19cae84b17b48c30e211",
    "id": "cWzjbtsBbp3l"
   },
   "source": [
    "# Topic Modelling LSA & LDA"
   ]
  },
  {
   "cell_type": "markdown",
   "metadata": {
    "_uuid": "6a503c2851673a3d3ec1eb2c3d6c6e5566292af1",
    "id": "0ZhsUIDtbp3o"
   },
   "source": [
    "## Import Library\n",
    "\n",
    "### Library yang digunakan\n",
    "\n",
    "- **Pandas**\n",
    "\n",
    "- **matplotlib**\n",
    "\n",
    "- **PySastrawi**\n",
    "\n",
    "- **scikit-learn**\n",
    "\n",
    "- **WordCloud**"
   ]
  },
  {
   "cell_type": "code",
   "execution_count": 1,
   "metadata": {
    "_uuid": "39f140e85d319161012fb67f258dd6b339545b0a",
    "id": "5O5_-2kTGD6V"
   },
   "outputs": [],
   "source": [
    "# visualisasi data dan manipulasi\n",
    "import numpy as np\n",
    "import pandas as pd\n",
    "import matplotlib.pyplot as plt\n",
    "from matplotlib import style\n",
    "from wordcloud import WordCloud\n",
    "\n",
    "#configure\n",
    "# sets matplotlib to inline and displays graphs below the corressponding cell.\n",
    "%matplotlib inline  \n",
    "style.use('fivethirtyeight')\n",
    "\n",
    "# Pre-processing\n",
    "import re\n",
    "import string\n",
    "from Sastrawi.StopWordRemover.StopWordRemoverFactory import StopWordRemoverFactory\n",
    "\n",
    "# vectorizers for creating the document-term-matrix (DTM)\n",
    "from sklearn.feature_extraction.text import TfidfVectorizer\n",
    "from sklearn.decomposition import TruncatedSVD\n",
    "from sklearn.decomposition import LatentDirichletAllocation"
   ]
  },
  {
   "cell_type": "code",
   "execution_count": 2,
   "metadata": {
    "id": "60AvrIprbp3r"
   },
   "outputs": [],
   "source": [
    "# Melakukan setting jumlah kolom maksimal pada output\n",
    "pd.options.display.max_columns = 10"
   ]
  },
  {
   "cell_type": "markdown",
   "metadata": {
    "_uuid": "a2b520342f1761de78285e76aa6327d9d37b1f4e",
    "id": "mIEI8nTMbp3r"
   },
   "source": [
    "## Membaca Data"
   ]
  },
  {
   "cell_type": "markdown",
   "metadata": {
    "id": "1F6wUISWbp3r"
   },
   "source": [
    "Dataset yang digunakan : [link](https://github.com/DipoLahelas/PPW/blob/main/hasil-crawl.csv)\n",
    "\n",
    "Dataset yang digunakan merupakan hasil dari crawling jurnal pta yang telah diambil tadi dan juga ditambahi label."
   ]
  },
  {
   "cell_type": "code",
   "execution_count": 3,
   "metadata": {
    "_uuid": "aad495ed355e99947bc3b9816cfad0ff430c17e5",
    "id": "xaPWCpthHVIS"
   },
   "outputs": [],
   "source": [
    "df = pd.read_csv('Hasil_Text_Preprocessing.csv')"
   ]
  },
  {
   "cell_type": "code",
   "execution_count": 4,
   "metadata": {
    "_uuid": "e09dd69ffa2bae1920f3e10b1af0a8ce0f8ae16d",
    "colab": {
     "base_uri": "https://localhost:8080/",
     "height": 406
    },
    "id": "Wwf4uKjTIYm2",
    "outputId": "9f366752-2ea7-4f1d-c7a7-a35f0ee3d523"
   },
   "outputs": [
    {
     "data": {
      "text/html": [
       "<div>\n",
       "<style scoped>\n",
       "    .dataframe tbody tr th:only-of-type {\n",
       "        vertical-align: middle;\n",
       "    }\n",
       "\n",
       "    .dataframe tbody tr th {\n",
       "        vertical-align: top;\n",
       "    }\n",
       "\n",
       "    .dataframe thead th {\n",
       "        text-align: right;\n",
       "    }\n",
       "</style>\n",
       "<table border=\"1\" class=\"dataframe\">\n",
       "  <thead>\n",
       "    <tr style=\"text-align: right;\">\n",
       "      <th></th>\n",
       "      <th>Unnamed: 0</th>\n",
       "      <th>judul_TA</th>\n",
       "      <th>abstrak</th>\n",
       "      <th>abstrak_tokens</th>\n",
       "      <th>abstrak_tokens_fdist</th>\n",
       "      <th>abstrak_tokens_WSW</th>\n",
       "      <th>abstrak_normalized</th>\n",
       "      <th>abstrak_tokens_stemmed</th>\n",
       "    </tr>\n",
       "  </thead>\n",
       "  <tbody>\n",
       "    <tr>\n",
       "      <th>0</th>\n",
       "      <td>0</td>\n",
       "      <td>PENGARUH PERILAKU KONSUMEN TERHADAP KEPUTUSAN ...</td>\n",
       "      <td>abstrak haryono arifin pengaruh perilaku konsu...</td>\n",
       "      <td>['abstrak', 'haryono', 'arifin', 'pengaruh', '...</td>\n",
       "      <td>&lt;FreqDist with 76 samples and 162 outcomes&gt;</td>\n",
       "      <td>['haryono', 'arifin', 'pengaruh', 'perilaku', ...</td>\n",
       "      <td>['haryono', 'arifin', 'pengaruh', 'perilaku', ...</td>\n",
       "      <td>['haryono', 'arifin', 'pengaruh', 'perilaku', ...</td>\n",
       "    </tr>\n",
       "    <tr>\n",
       "      <th>1</th>\n",
       "      <td>1</td>\n",
       "      <td>PENGARUH DIMENSI KUALITAS PELAYANAN TERHADAP K...</td>\n",
       "      <td>abstrak tujuan penelitian ini adalah untuk men...</td>\n",
       "      <td>['abstrak', 'tujuan', 'penelitian', 'ini', 'ad...</td>\n",
       "      <td>&lt;FreqDist with 70 samples and 136 outcomes&gt;</td>\n",
       "      <td>['tujuan', 'penelitian', 'mengidentifikasi', '...</td>\n",
       "      <td>['tujuan', 'penelitian', 'mengidentifikasi', '...</td>\n",
       "      <td>['tuju', 'teliti', 'identifikasi', 'variabelva...</td>\n",
       "    </tr>\n",
       "    <tr>\n",
       "      <th>2</th>\n",
       "      <td>2</td>\n",
       "      <td>Analisis Inovasi Dan Keunggulan Bersaing \\r\\nD...</td>\n",
       "      <td>abstrak tujuan penelitian ini adalah mendeskri...</td>\n",
       "      <td>['abstrak', 'tujuan', 'penelitian', 'ini', 'ad...</td>\n",
       "      <td>&lt;FreqDist with 82 samples and 126 outcomes&gt;</td>\n",
       "      <td>['tujuan', 'penelitian', 'mendeskripsikan', 'i...</td>\n",
       "      <td>['tujuan', 'penelitian', 'mendeskripsikan', 'i...</td>\n",
       "      <td>['tuju', 'teliti', 'deskripsi', 'inovasi', 'un...</td>\n",
       "    </tr>\n",
       "    <tr>\n",
       "      <th>3</th>\n",
       "      <td>3</td>\n",
       "      <td>Pengaruh Retailing Mix terhadap Keputusan Pemb...</td>\n",
       "      <td>tujuan penelitian ini adalah untuk mengetahui ...</td>\n",
       "      <td>['tujuan', 'penelitian', 'ini', 'adalah', 'unt...</td>\n",
       "      <td>&lt;FreqDist with 95 samples and 232 outcomes&gt;</td>\n",
       "      <td>['tujuan', 'penelitian', 'pengaruh', 'variabel...</td>\n",
       "      <td>['tujuan', 'penelitian', 'pengaruh', 'variabel...</td>\n",
       "      <td>['tuju', 'teliti', 'pengaruh', 'variabel', 're...</td>\n",
       "    </tr>\n",
       "    <tr>\n",
       "      <th>4</th>\n",
       "      <td>4</td>\n",
       "      <td>ANALISIS TINGKAT RISIKO KREDIT \\r\\nPADA PD. BP...</td>\n",
       "      <td>hasil dari penelitian ini dari perhitungan cre...</td>\n",
       "      <td>['hasil', 'dari', 'penelitian', 'ini', 'dari',...</td>\n",
       "      <td>&lt;FreqDist with 46 samples and 91 outcomes&gt;</td>\n",
       "      <td>['hasil', 'penelitian', 'perhitungan', 'credit...</td>\n",
       "      <td>['hasil', 'penelitian', 'perhitungan', 'credit...</td>\n",
       "      <td>['hasil', 'teliti', 'hitung', 'credit', 'risk'...</td>\n",
       "    </tr>\n",
       "  </tbody>\n",
       "</table>\n",
       "</div>"
      ],
      "text/plain": [
       "   Unnamed: 0                                           judul_TA  \\\n",
       "0           0  PENGARUH PERILAKU KONSUMEN TERHADAP KEPUTUSAN ...   \n",
       "1           1  PENGARUH DIMENSI KUALITAS PELAYANAN TERHADAP K...   \n",
       "2           2  Analisis Inovasi Dan Keunggulan Bersaing \\r\\nD...   \n",
       "3           3  Pengaruh Retailing Mix terhadap Keputusan Pemb...   \n",
       "4           4  ANALISIS TINGKAT RISIKO KREDIT \\r\\nPADA PD. BP...   \n",
       "\n",
       "                                             abstrak  \\\n",
       "0  abstrak haryono arifin pengaruh perilaku konsu...   \n",
       "1  abstrak tujuan penelitian ini adalah untuk men...   \n",
       "2  abstrak tujuan penelitian ini adalah mendeskri...   \n",
       "3  tujuan penelitian ini adalah untuk mengetahui ...   \n",
       "4  hasil dari penelitian ini dari perhitungan cre...   \n",
       "\n",
       "                                      abstrak_tokens  \\\n",
       "0  ['abstrak', 'haryono', 'arifin', 'pengaruh', '...   \n",
       "1  ['abstrak', 'tujuan', 'penelitian', 'ini', 'ad...   \n",
       "2  ['abstrak', 'tujuan', 'penelitian', 'ini', 'ad...   \n",
       "3  ['tujuan', 'penelitian', 'ini', 'adalah', 'unt...   \n",
       "4  ['hasil', 'dari', 'penelitian', 'ini', 'dari',...   \n",
       "\n",
       "                          abstrak_tokens_fdist  \\\n",
       "0  <FreqDist with 76 samples and 162 outcomes>   \n",
       "1  <FreqDist with 70 samples and 136 outcomes>   \n",
       "2  <FreqDist with 82 samples and 126 outcomes>   \n",
       "3  <FreqDist with 95 samples and 232 outcomes>   \n",
       "4   <FreqDist with 46 samples and 91 outcomes>   \n",
       "\n",
       "                                  abstrak_tokens_WSW  \\\n",
       "0  ['haryono', 'arifin', 'pengaruh', 'perilaku', ...   \n",
       "1  ['tujuan', 'penelitian', 'mengidentifikasi', '...   \n",
       "2  ['tujuan', 'penelitian', 'mendeskripsikan', 'i...   \n",
       "3  ['tujuan', 'penelitian', 'pengaruh', 'variabel...   \n",
       "4  ['hasil', 'penelitian', 'perhitungan', 'credit...   \n",
       "\n",
       "                                  abstrak_normalized  \\\n",
       "0  ['haryono', 'arifin', 'pengaruh', 'perilaku', ...   \n",
       "1  ['tujuan', 'penelitian', 'mengidentifikasi', '...   \n",
       "2  ['tujuan', 'penelitian', 'mendeskripsikan', 'i...   \n",
       "3  ['tujuan', 'penelitian', 'pengaruh', 'variabel...   \n",
       "4  ['hasil', 'penelitian', 'perhitungan', 'credit...   \n",
       "\n",
       "                              abstrak_tokens_stemmed  \n",
       "0  ['haryono', 'arifin', 'pengaruh', 'perilaku', ...  \n",
       "1  ['tuju', 'teliti', 'identifikasi', 'variabelva...  \n",
       "2  ['tuju', 'teliti', 'deskripsi', 'inovasi', 'un...  \n",
       "3  ['tuju', 'teliti', 'pengaruh', 'variabel', 're...  \n",
       "4  ['hasil', 'teliti', 'hitung', 'credit', 'risk'...  "
      ]
     },
     "execution_count": 4,
     "metadata": {},
     "output_type": "execute_result"
    }
   ],
   "source": [
    "df.head()"
   ]
  },
  {
   "cell_type": "markdown",
   "metadata": {
    "_uuid": "ece312ea148c498c5584e83f6a36fce2dc236198",
    "id": "Y_6Xm0oFbp3t"
   },
   "source": [
    "Data yang digunakan dalam program ini hanya data pada kolom 'abstrak'. Untuk mengambil kolom 'abstrak' saja dapat dilakukan dengan inisialisasi ulang df dengan df[['abstrak']] "
   ]
  },
  {
   "cell_type": "code",
   "execution_count": 5,
   "metadata": {
    "_uuid": "2a6df530624e3b9c3cfb43659ba9c0f67e2aa1d4",
    "colab": {
     "base_uri": "https://localhost:8080/",
     "height": 206
    },
    "id": "wiuusKeEIr_o",
    "outputId": "456f2d2f-62f7-4b6d-a186-2c4c47d828c7"
   },
   "outputs": [
    {
     "data": {
      "text/html": [
       "<div>\n",
       "<style scoped>\n",
       "    .dataframe tbody tr th:only-of-type {\n",
       "        vertical-align: middle;\n",
       "    }\n",
       "\n",
       "    .dataframe tbody tr th {\n",
       "        vertical-align: top;\n",
       "    }\n",
       "\n",
       "    .dataframe thead th {\n",
       "        text-align: right;\n",
       "    }\n",
       "</style>\n",
       "<table border=\"1\" class=\"dataframe\">\n",
       "  <thead>\n",
       "    <tr style=\"text-align: right;\">\n",
       "      <th></th>\n",
       "      <th>abstrak</th>\n",
       "    </tr>\n",
       "  </thead>\n",
       "  <tbody>\n",
       "    <tr>\n",
       "      <th>0</th>\n",
       "      <td>abstrak haryono arifin pengaruh perilaku konsu...</td>\n",
       "    </tr>\n",
       "    <tr>\n",
       "      <th>1</th>\n",
       "      <td>abstrak tujuan penelitian ini adalah untuk men...</td>\n",
       "    </tr>\n",
       "    <tr>\n",
       "      <th>2</th>\n",
       "      <td>abstrak tujuan penelitian ini adalah mendeskri...</td>\n",
       "    </tr>\n",
       "    <tr>\n",
       "      <th>3</th>\n",
       "      <td>tujuan penelitian ini adalah untuk mengetahui ...</td>\n",
       "    </tr>\n",
       "    <tr>\n",
       "      <th>4</th>\n",
       "      <td>hasil dari penelitian ini dari perhitungan cre...</td>\n",
       "    </tr>\n",
       "  </tbody>\n",
       "</table>\n",
       "</div>"
      ],
      "text/plain": [
       "                                             abstrak\n",
       "0  abstrak haryono arifin pengaruh perilaku konsu...\n",
       "1  abstrak tujuan penelitian ini adalah untuk men...\n",
       "2  abstrak tujuan penelitian ini adalah mendeskri...\n",
       "3  tujuan penelitian ini adalah untuk mengetahui ...\n",
       "4  hasil dari penelitian ini dari perhitungan cre..."
      ]
     },
     "execution_count": 5,
     "metadata": {},
     "output_type": "execute_result"
    }
   ],
   "source": [
    "df = df[['abstrak']]\n",
    "df.head()"
   ]
  },
  {
   "cell_type": "markdown",
   "metadata": {
    "_uuid": "d36edc03b2cc88ef61651cd6c9deb470817e64df",
    "id": "yQZpp5YMXPkb"
   },
   "source": [
    "## Ekstraksi fitur dan membuat Document Term Matrix (DTM)\n",
    "\n",
    "Dalam perhitungan LSA (Latent Semantic Analysis) data yang diperlukan hanya TF-IDF. Sehingga pada program ini tidak perlu mencari nilai TF dari dokumen. Untuk mengetahui nilai TF-IDF dapat dilakukan dengan membuat objek dari kelas TfidfVectorizer yang disediakan library scikit-learn.\n",
    "\n",
    "Rumus Term Frequency (TF):\n",
    "\n",
    "$$\n",
    "tf(t,d) = { f_{ t,d } \\over \\sum_{t' \\in d } f_{t,d}}\n",
    "$$\n",
    "\n",
    "$ f_{ t,d } \\quad\\quad\\quad\\quad$: Jumlah kata t muncul dalam dokumen\n",
    "\n",
    "$ \\sum_{t' \\in d } f_{t,d} \\quad\\quad$: Jumlah seluruh kata yang ada dalam dokumen\n",
    "\n",
    "Rumus Inverse Document Frequency (IDF):\n",
    "\n",
    "$$\n",
    "idf( t,D ) = log { N \\over { | \\{ d \\in D:t \\in d \\} | } }\n",
    "$$\n",
    "\n",
    "$ N \\quad\\quad\\quad\\quad\\quad$ : Jumlah seluruh dokumen\n",
    "\n",
    "$ | \\{ d \\in D:t \\in d \\} | $ : Jumlah dokumen yang mengandung kata $ t $\n",
    "\n",
    "Rumus TF - IDF:\n",
    "\n",
    "$$\n",
    "tfidf( t,d,D ) = tf( t,d ) \\times idf( t,D )\n",
    "$$"
   ]
  },
  {
   "cell_type": "code",
   "execution_count": 6,
   "metadata": {
    "_uuid": "d3998f5b7d7eaed5d18d08830d2ba9ba8dd7fcd6",
    "id": "UUxESGqhXX07"
   },
   "outputs": [],
   "source": [
    "vect = TfidfVectorizer()"
   ]
  },
  {
   "cell_type": "markdown",
   "metadata": {
    "id": "nhfMrdyZbp30"
   },
   "source": [
    "Setelah objek **TfidfVectorizer** dibuat gunakan method **fit_transform** dengan argumen data yang akan dicari nilai **TF-IDF**-nya"
   ]
  },
  {
   "cell_type": "code",
   "execution_count": 7,
   "metadata": {
    "_uuid": "00cdefa5281e43ed4cd28af256490cf3cf4dbaf2",
    "id": "z0CezNO4aUoh"
   },
   "outputs": [],
   "source": [
    "vect_text = vect.fit_transform(df['abstrak'])"
   ]
  },
  {
   "cell_type": "code",
   "execution_count": 8,
   "metadata": {
    "_uuid": "1fda68dd69c429fff879d660aa0ec7dccec18a64",
    "colab": {
     "base_uri": "https://localhost:8080/"
    },
    "id": "GpmvqKFcbp30",
    "outputId": "a2a8584e-1870-4304-dddc-f9d8c415093b"
   },
   "outputs": [
    {
     "name": "stdout",
     "output_type": "stream",
     "text": [
      "Jumlah atribut dalam Document-Term Matrix : 1324\n"
     ]
    }
   ],
   "source": [
    "attr_count = vect.get_feature_names_out().shape[0]\n",
    "print(f'Jumlah atribut dalam Document-Term Matrix : {attr_count}')"
   ]
  },
  {
   "cell_type": "markdown",
   "metadata": {
    "_uuid": "bb0975cb5ba0e82f9e14eba53bd466c26b892a7e",
    "id": "Qz_zOImebp30"
   },
   "source": [
    "#### Menyimpan hasil tfidf ke dalam DataFrame"
   ]
  },
  {
   "cell_type": "markdown",
   "metadata": {
    "id": "UvoL_M6nbp30"
   },
   "source": [
    "Hasil tfidf perlu diubah terlebih dahulu menjadi array agar dapat digunakan sebagai data. Kemudian untuk parameter kolom-nya dapat didapatkan menggunakan method get_feature_names_out pada objek TfidfVectorizer."
   ]
  },
  {
   "cell_type": "code",
   "execution_count": 9,
   "metadata": {
    "_uuid": "a75bc1a06e66fa4c8615822f703487424761570b",
    "colab": {
     "base_uri": "https://localhost:8080/",
     "height": 236
    },
    "id": "5G-Zt5lUsUjx",
    "outputId": "ff85a1d9-2dbd-4bd8-9637-f730c4217993"
   },
   "outputs": [
    {
     "data": {
      "text/html": [
       "<div>\n",
       "<style scoped>\n",
       "    .dataframe tbody tr th:only-of-type {\n",
       "        vertical-align: middle;\n",
       "    }\n",
       "\n",
       "    .dataframe tbody tr th {\n",
       "        vertical-align: top;\n",
       "    }\n",
       "\n",
       "    .dataframe thead th {\n",
       "        text-align: right;\n",
       "    }\n",
       "</style>\n",
       "<table border=\"1\" class=\"dataframe\">\n",
       "  <thead>\n",
       "    <tr style=\"text-align: right;\">\n",
       "      <th></th>\n",
       "      <th>abidin</th>\n",
       "      <th>abstrak</th>\n",
       "      <th>abtrak</th>\n",
       "      <th>accidental</th>\n",
       "      <th>acer</th>\n",
       "      <th>...</th>\n",
       "      <th>yakni</th>\n",
       "      <th>yamaha</th>\n",
       "      <th>yang</th>\n",
       "      <th>yustina</th>\n",
       "      <th>zscore</th>\n",
       "    </tr>\n",
       "  </thead>\n",
       "  <tbody>\n",
       "    <tr>\n",
       "      <th>0</th>\n",
       "      <td>0.0</td>\n",
       "      <td>0.033781</td>\n",
       "      <td>0.0</td>\n",
       "      <td>0.000000</td>\n",
       "      <td>0.0</td>\n",
       "      <td>...</td>\n",
       "      <td>0.0</td>\n",
       "      <td>0.0</td>\n",
       "      <td>0.107217</td>\n",
       "      <td>0.0</td>\n",
       "      <td>0.0</td>\n",
       "    </tr>\n",
       "    <tr>\n",
       "      <th>1</th>\n",
       "      <td>0.0</td>\n",
       "      <td>0.044098</td>\n",
       "      <td>0.0</td>\n",
       "      <td>0.069933</td>\n",
       "      <td>0.0</td>\n",
       "      <td>...</td>\n",
       "      <td>0.0</td>\n",
       "      <td>0.0</td>\n",
       "      <td>0.139964</td>\n",
       "      <td>0.0</td>\n",
       "      <td>0.0</td>\n",
       "    </tr>\n",
       "    <tr>\n",
       "      <th>2</th>\n",
       "      <td>0.0</td>\n",
       "      <td>0.035776</td>\n",
       "      <td>0.0</td>\n",
       "      <td>0.000000</td>\n",
       "      <td>0.0</td>\n",
       "      <td>...</td>\n",
       "      <td>0.0</td>\n",
       "      <td>0.0</td>\n",
       "      <td>0.056776</td>\n",
       "      <td>0.0</td>\n",
       "      <td>0.0</td>\n",
       "    </tr>\n",
       "    <tr>\n",
       "      <th>3</th>\n",
       "      <td>0.0</td>\n",
       "      <td>0.000000</td>\n",
       "      <td>0.0</td>\n",
       "      <td>0.000000</td>\n",
       "      <td>0.0</td>\n",
       "      <td>...</td>\n",
       "      <td>0.0</td>\n",
       "      <td>0.0</td>\n",
       "      <td>0.221425</td>\n",
       "      <td>0.0</td>\n",
       "      <td>0.0</td>\n",
       "    </tr>\n",
       "    <tr>\n",
       "      <th>4</th>\n",
       "      <td>0.0</td>\n",
       "      <td>0.000000</td>\n",
       "      <td>0.0</td>\n",
       "      <td>0.000000</td>\n",
       "      <td>0.0</td>\n",
       "      <td>...</td>\n",
       "      <td>0.0</td>\n",
       "      <td>0.0</td>\n",
       "      <td>0.022687</td>\n",
       "      <td>0.0</td>\n",
       "      <td>0.0</td>\n",
       "    </tr>\n",
       "  </tbody>\n",
       "</table>\n",
       "<p>5 rows × 1324 columns</p>\n",
       "</div>"
      ],
      "text/plain": [
       "   abidin   abstrak  abtrak  accidental  acer  ...  yakni  yamaha      yang  \\\n",
       "0     0.0  0.033781     0.0    0.000000   0.0  ...    0.0     0.0  0.107217   \n",
       "1     0.0  0.044098     0.0    0.069933   0.0  ...    0.0     0.0  0.139964   \n",
       "2     0.0  0.035776     0.0    0.000000   0.0  ...    0.0     0.0  0.056776   \n",
       "3     0.0  0.000000     0.0    0.000000   0.0  ...    0.0     0.0  0.221425   \n",
       "4     0.0  0.000000     0.0    0.000000   0.0  ...    0.0     0.0  0.022687   \n",
       "\n",
       "   yustina  zscore  \n",
       "0      0.0     0.0  \n",
       "1      0.0     0.0  \n",
       "2      0.0     0.0  \n",
       "3      0.0     0.0  \n",
       "4      0.0     0.0  \n",
       "\n",
       "[5 rows x 1324 columns]"
      ]
     },
     "execution_count": 9,
     "metadata": {},
     "output_type": "execute_result"
    }
   ],
   "source": [
    "tfidf = pd.DataFrame(\n",
    "    data=vect_text.toarray(),\n",
    "    columns=vect.get_feature_names_out()\n",
    ")\n",
    "tfidf.head()"
   ]
  },
  {
   "cell_type": "markdown",
   "metadata": {
    "id": "cWAvKVjibp31"
   },
   "source": [
    "Mencari nilai **idf** dengan mengakses atribut **idf_** pada objek **tfidfVectorizer**. Atribut **idf_** hanya terdefinisi apabila parameter **use_idf** saat instansiasi objekk tfidfVectorizer bernilai **True**. Namun, **use_idf** sudah bernilai **True** secara default, sehingga kita dapat perlu menentukannya secara manual. "
   ]
  },
  {
   "cell_type": "code",
   "execution_count": 10,
   "metadata": {
    "_uuid": "fdf6846bf90d386f8361467a420af9b40b689521",
    "id": "zbF-rC1va7tP"
   },
   "outputs": [],
   "source": [
    "idf = vect.idf_"
   ]
  },
  {
   "cell_type": "code",
   "execution_count": 11,
   "metadata": {
    "_uuid": "b5dc9f0d99d949a36cdb00be41b5ba4a424f093c",
    "id": "a0wQG_tZm53A"
   },
   "outputs": [],
   "source": [
    "dd= dict(zip(vect.get_feature_names_out(), idf))\n",
    "\n",
    "l = sorted(dd, key = dd.get)"
   ]
  },
  {
   "cell_type": "markdown",
   "metadata": {
    "id": "Qy1CxZhbbp31"
   },
   "source": [
    "Kita dapat melihat kata yang paling sering dan paling jarang muncul pada judul tugas akhir berdasarkan nilai idf. Kata yang memiliki nilai lebih kecil, adalah kata yang paling sering muncul dalam judul"
   ]
  },
  {
   "cell_type": "code",
   "execution_count": 12,
   "metadata": {
    "colab": {
     "base_uri": "https://localhost:8080/"
    },
    "id": "_PzjpEVFbp32",
    "outputId": "59dc5997-cee6-41d3-c429-b776d6e81c22"
   },
   "outputs": [
    {
     "name": "stdout",
     "output_type": "stream",
     "text": [
      "5 Kata yang sering muncul:\n",
      "1. dan\t(Nilai idf: 1.0202027073175195)\n",
      "2. ini\t(Nilai idf: 1.0408219945202553)\n",
      "3. penelitian\t(Nilai idf: 1.0408219945202553)\n",
      "4. yang\t(Nilai idf: 1.0408219945202553)\n",
      "5. terhadap\t(Nilai idf: 1.127833371509885)\n"
     ]
    }
   ],
   "source": [
    "print(\"5 Kata yang sering muncul:\")\n",
    "for i, word in enumerate(l[:5]):\n",
    "    print(f\"{i+1}. {word}\\t(Nilai idf: {dd[word]})\")"
   ]
  },
  {
   "cell_type": "code",
   "execution_count": 13,
   "metadata": {
    "colab": {
     "base_uri": "https://localhost:8080/"
    },
    "id": "X5KTEEsfbp32",
    "outputId": "7b90d72b-a056-4fdc-e3b6-6a720455aa93"
   },
   "outputs": [
    {
     "name": "stdout",
     "output_type": "stream",
     "text": [
      "5 Kata yang jarang muncul:\n",
      "1. zscore\t(Nilai idf: 4.218875824868201)\n",
      "2. yamaha\t(Nilai idf: 4.218875824868201)\n",
      "3. yakni\t(Nilai idf: 4.218875824868201)\n",
      "4. xterhadap\t(Nilai idf: 4.218875824868201)\n"
     ]
    }
   ],
   "source": [
    "print(\"5 Kata yang jarang muncul:\")\n",
    "for i, word in enumerate(l[:-5:-1]):\n",
    "    print(f\"{i+1}. {word}\\t(Nilai idf: {dd[word]})\")"
   ]
  },
  {
   "cell_type": "markdown",
   "metadata": {
    "_uuid": "3b96bb00ba3313b3fcab6735e73c56e89fc74365",
    "id": "Ia6l9TfCbp32"
   },
   "source": [
    "## TOPIC MODELLING"
   ]
  },
  {
   "cell_type": "markdown",
   "metadata": {
    "_uuid": "0bad03b7f6b2b69cd4554ec9e7681b430dfe4e10",
    "id": "LxPPUYoVbp32"
   },
   "source": [
    "### Latent Semantic Analysis (LSA)"
   ]
  },
  {
   "cell_type": "markdown",
   "metadata": {
    "id": "WBs_V3oDbp33"
   },
   "source": [
    "Latent Semantic Analysis (LSA) merupakan sebuah metode yang memanfaatkan model statistik matematis untuk menganalisa struktur semantik suatu teks. LSA bisa digunakan untuk menilai judul tugas akhir dengan mengkonversikan judul tugas akhir menjadi matriks-matriks yang diberi nilai pada masing-masing term untuk dicari kesamaan dengan term. Secara umum, langkah-langkah LSA dalam penilaian judul tugas akhir adalah sebagai berikut:\n",
    "\n",
    "1. Text Processing\n",
    "2. Document-Term Matrix\n",
    "3. Singular Value Decomposition (SVD)\n",
    "4. Cosine Similarity Measurement"
   ]
  },
  {
   "cell_type": "markdown",
   "metadata": {
    "id": "AJ5-WsFlbp33"
   },
   "source": [
    "#### Singular Value Decomposition"
   ]
  },
  {
   "cell_type": "markdown",
   "metadata": {
    "id": "R6BDdh7Sbp33"
   },
   "source": [
    "Singular Value Decomposition (SVD) adalah sebuah teknik untuk mereduksi dimensi yang bermanfaat untuk memperkecil nilai kompleksitas dalam pemrosesan Document-Term Matrix. SVD merupakan teorema aljabar linier yang menyebutkan bahwa persegi panjang dari Document-Term Matrix dapat dipecah/didekomposisikan menjadi tiga matriks, yaitu Matriks ortogonal U, Matriks diagonal S, Transpose dari matriks ortogonal V."
   ]
  },
  {
   "cell_type": "markdown",
   "metadata": {
    "_uuid": "c0d4b13524635aefa5e44f780efeec9b55ca6e58",
    "id": "r9kWTfR8bp33"
   },
   "source": [
    "$$\n",
    "A_{mn} = U_{mm} \\times S_{mn} \\times V^{T}_{nn}\n",
    "$$\n",
    "\n",
    "$ A_{mn} $ : matriks awal\n",
    "\n",
    "$ U_{mm} $ : matriks ortogonal\n",
    "\n",
    "$ S_{mn} $ : matriks diagonal\n",
    "\n",
    "$ V^{T}_{nn} $ : Transpose matriks ortogonal V"
   ]
  },
  {
   "cell_type": "markdown",
   "metadata": {
    "id": "ayutAWAUbp33"
   },
   "source": [
    "Setiap baris dari matriks $ U $ (Document-Term Matrix) adalah bentuk vektor dari dokumen. Panjang dari vektor-vektor tersebut adalah jumlah topik. Sedangkan matriks $ V $ (Term-Topic Matrix) berisi kata-kata dari data.\n",
    "\n",
    "SVD akan memberikan vektor untuk setiap dokumen dan kata dalam data. Kita dapat menggunakan vektor-vektor tersebut untuk mencari kata dan dokumen serupa menggunakan metode **Cosine Similarity**.\n",
    "\n",
    "Dalam mengimplementasikan LSA, dapat menggunakan fungsi TruncatedSVD. parameter n_components digunakan untuk menentukan jumlah topik yang akan diekstrak.\n",
    "\n"
   ]
  },
  {
   "cell_type": "code",
   "execution_count": 14,
   "metadata": {
    "_uuid": "ac483df5e69eeb2b4b71af956c6987896eda7eb6",
    "id": "9xuGfFdtqTp5"
   },
   "outputs": [],
   "source": [
    "lsa_model = TruncatedSVD(n_components=10, algorithm='randomized', n_iter=10, random_state=42)\n",
    "\n",
    "lsa_top=lsa_model.fit_transform(vect_text)"
   ]
  },
  {
   "cell_type": "code",
   "execution_count": 15,
   "metadata": {
    "_uuid": "2a259e5f3b8c11118368439eea8de0faa8b7a1c2",
    "colab": {
     "base_uri": "https://localhost:8080/"
    },
    "id": "d4dvIGIGxtAI",
    "outputId": "a4ae4e18-9a69-4fd2-c2e5-685ba97639c3"
   },
   "outputs": [
    {
     "name": "stdout",
     "output_type": "stream",
     "text": [
      "Document 0 :\n",
      "Topic 0 : 42.85554359445768\n",
      "Topic 1 : -23.999206316479626\n",
      "Topic 2 : -14.048898782165287\n",
      "Topic 3 : -6.599869788483573\n",
      "Topic 4 : -0.6296272313495116\n",
      "Topic 5 : -4.813339588134693\n",
      "Topic 6 : 6.5114445450660305\n",
      "Topic 7 : 25.999840266556408\n",
      "Topic 8 : -19.553682332722648\n",
      "Topic 9 : 11.649224695187039\n"
     ]
    }
   ],
   "source": [
    "l=lsa_top[0]\n",
    "print(\"Document 0 :\")\n",
    "for i,topic in enumerate(l):\n",
    "  print(f\"Topic {i} : {topic*100}\")"
   ]
  },
  {
   "cell_type": "code",
   "execution_count": 16,
   "metadata": {
    "_uuid": "61bb8ff8b4b6cf0cd2fcde7890f3a3ebb8980452",
    "colab": {
     "base_uri": "https://localhost:8080/"
    },
    "id": "AI2kOuwitOGp",
    "outputId": "6eb97933-6fb9-4cd4-e6bf-2e2cdd7b076f"
   },
   "outputs": [
    {
     "name": "stdout",
     "output_type": "stream",
     "text": [
      "Jumlah topik\t: 10\n",
      "Jumlah kata\t: 1324\n"
     ]
    }
   ],
   "source": [
    "(count_topic, count_word) = lsa_model.components_.shape\n",
    "print(f\"Jumlah topik\\t: {count_topic}\")\n",
    "print(f\"Jumlah kata\\t: {count_word}\")"
   ]
  },
  {
   "cell_type": "markdown",
   "metadata": {
    "_uuid": "a289f6e017d0c573d20ed386582df71437fab5cc",
    "id": "GgFp1UoNbp34"
   },
   "source": [
    "Sekarang kita dapat mendapatkan daftar kata yang penting untuk setiap topik. Jumlah kata yang akan ditampilkan hanya 10. Untuk melakukan sorting dapat menggunakan fungsi sorted, lalu slicing dengan menambahkan \\[:10\\] agar data yang diambil hanya 10 data pertama. Slicing dilakukan berdasarkan nilai pada indeks 1 karena nilai dari nilai lsa."
   ]
  },
  {
   "cell_type": "code",
   "execution_count": 17,
   "metadata": {
    "_uuid": "c9860197f6d11e5583629cca322e19a93d4c0350",
    "colab": {
     "base_uri": "https://localhost:8080/"
    },
    "id": "GMMmSTbQqfdz",
    "outputId": "76108f14-186c-4bc6-8a8b-7b053a90fbe9"
   },
   "outputs": [
    {
     "name": "stdout",
     "output_type": "stream",
     "text": [
      "Topic 0: \n",
      "yang variabel dan terhadap penelitian keputusan pembelian produk pada ini\n",
      "\n",
      "Topic 1: \n",
      "saham perusahaan split stock tahun ratio sebelum sesudah sebesar return\n",
      "\n",
      "Topic 2: \n",
      "kerja karyawan prestasi kompensasi pengembangan pegawai pln produktivitas variabel karir\n",
      "\n",
      "Topic 3: \n",
      "kepuasan akademik kualitas pelanggan ratio kompensasi pelayanan tahun persepsi madura\n",
      "\n",
      "Topic 4: \n",
      "ratio equity current tahun kompensasi perusahaan keputusan profitabilitas risk uji\n",
      "\n",
      "Topic 5: \n",
      "iklan langsung pesan online mahasiswa saham trunojoyo konsumen madura universitas\n",
      "\n",
      "Topic 6: \n",
      "kerja online stressor perusahaan produk iklan trunojoyo madura universitas mahasiswa\n",
      "\n",
      "Topic 7: \n",
      "kompensasi produk motor honda langsung finansial kinerja sebesar pendidikan sepeda\n",
      "\n",
      "Topic 8: \n",
      "akademik sebesar online prestasi madura universitas trunojoyo variabel mahasiswa efficacy\n",
      "\n",
      "Topic 9: \n",
      "persepsi merek dimensi banking kemudahan internet bri ulang minat association\n",
      "\n"
     ]
    }
   ],
   "source": [
    "# most important words for each topic\n",
    "vocab = vect.get_feature_names_out()\n",
    "\n",
    "for i, comp in enumerate(lsa_model.components_):\n",
    "    vocab_comp = zip(vocab, comp)\n",
    "\n",
    "    sorted_words = sorted(vocab_comp, key= lambda x:x[1], reverse=True)[:10]\n",
    "    print(f\"Topic {i}: \")\n",
    "    print(\" \".join([ item[0] for item in sorted_words ]))\n",
    "    print(\"\")\n",
    "         "
   ]
  },
  {
   "cell_type": "markdown",
   "metadata": {
    "_uuid": "2898911f7af52671923cf6bbc8cab6bc7871aa59",
    "id": "gmMeb4METhm2"
   },
   "source": [
    "### Latent Dirichlet Allocation (LDA)  "
   ]
  },
  {
   "cell_type": "markdown",
   "metadata": {
    "id": "fb--kWvjbp34"
   },
   "source": [
    "![Model LDA](dw-1.jpg)\n",
    "\n",
    "*Latent Dirichlet Allocation (LDA)* adalah model generatif statistik yang dari koleksi data diskrit seperti kumpulan dokumen (*corpus*).\n",
    "\n",
    "![Konsep LDA](dw-3.jpg)\n",
    "\n",
    "Awal dibuatnya LDA yaitu bahwa dokumen terdiri dari beberapa topik.  Proses mengasumsikan bahwa dokumen berasal dari topik tertentu melalui *imaginary random process*. Setiap topik dibentuk oleh distribusi kata-kata.\n",
    "\n",
    "![Konsep LDA](dw-4.jpg)\n",
    "\n",
    "Topik yang mendeskripsikan kumpulan dari suatu dokumen dapat ditentukan setalah topik LDA dibuat. Pada sisi sebelah kanan gambar diatas menunjukkan daftar topik serta 15 kata dengan distribusi tertinggi untuk masing-masing topik tersebut. \n",
    "\n",
    "Rumus Dirichlet Distribution:\n",
    "$$\n",
    "f\\left(x_{1}, \\ldots, x_{K} ; \\alpha_{1}, \\ldots, \\alpha_{K}\\right)=\\frac{\\Gamma\\left(\\sum_{i=1}^{K} \\alpha_{i}\\right)}{\\prod_{i=1}^{K} \\Gamma\\left(\\alpha_{i}\\right)} \\prod_{i=1}^{K} x_{i}^{\\alpha_{i}-1}\n",
    "$$"
   ]
  },
  {
   "cell_type": "markdown",
   "metadata": {
    "id": "Yqm8ldqHbp35"
   },
   "source": [
    "Untuk melakukan perhitungan LDA dengan library sklearn, dapat dilakukan dengan menggunakan kelas *LatentDirichletAllocation* yang ada pada modul *sklearn.decomposition*. Parameter yang digunakan antara lain:\n",
    "- n_components = 2\\\n",
    "    Mengatur jumlah topik menjadi 2\n",
    "\n",
    "- learning_method ='online'\\\n",
    "    Mengatur agar metode pembelajaran secara online. sehingga akan lebih cepat ketika menggunakan data dalam jumlah besar.\n",
    "     \n",
    "- random_state = 42\\\n",
    "    Untuk mendapatkan hasil pengacakan yang sama selama 42 kali kode dijalankan  \n",
    "\n",
    "- max_iter = 1 \\\n",
    "    Untuk mengatur jumlah iterasi training data (epoch) menjadi 1 kali saja."
   ]
  },
  {
   "cell_type": "code",
   "execution_count": 18,
   "metadata": {
    "_uuid": "b21a29802cac8f469c65df49ba0ef04f592f3202",
    "id": "yPJFHVxxTiwh"
   },
   "outputs": [],
   "source": [
    "lda_model = LatentDirichletAllocation(n_components=2,learning_method='online',random_state=42,max_iter=1) "
   ]
  },
  {
   "cell_type": "code",
   "execution_count": 19,
   "metadata": {
    "_uuid": "8c0169b02a356e8cf8583218437d23f549c1e3da",
    "id": "aeUPTUUIazvB"
   },
   "outputs": [],
   "source": [
    "lda_top = lda_model.fit_transform(vect_text)"
   ]
  },
  {
   "cell_type": "code",
   "execution_count": 20,
   "metadata": {
    "_uuid": "77425315af5c000fa30caefd6dcebb70c2970cfa",
    "colab": {
     "base_uri": "https://localhost:8080/"
    },
    "id": "h8LzsFixdkBt",
    "outputId": "6969e266-0ff3-43f2-9b7b-805a97aa86a7"
   },
   "outputs": [
    {
     "name": "stdout",
     "output_type": "stream",
     "text": [
      "Jumlah dokumen\t: 49\n",
      "Jumlah topik\t: 2\n"
     ]
    }
   ],
   "source": [
    "(count_doc_lda, count_topic_lda) = lda_top.shape\n",
    "print(f\"Jumlah dokumen\\t: {count_doc_lda}\")\n",
    "print(f\"Jumlah topik\\t: {count_topic_lda}\")"
   ]
  },
  {
   "cell_type": "code",
   "execution_count": 21,
   "metadata": {
    "_uuid": "d896b8fcf2c398367de4e7b7142e144fb4944f2d",
    "colab": {
     "base_uri": "https://localhost:8080/"
    },
    "id": "Z6WmZLp3ehbY",
    "outputId": "422513b6-e0be-47a1-aeb1-ee8833a83479"
   },
   "outputs": [
    {
     "name": "stdout",
     "output_type": "stream",
     "text": [
      "Document 0: \n",
      "Topic  0 :  57.435257992437606 %\n",
      "Topic  1 :  42.564742007562394 %\n"
     ]
    }
   ],
   "source": [
    "# composition of doc 0 for eg\n",
    "print(\"Document 0: \")\n",
    "for i,topic in enumerate(lda_top[0]):\n",
    "  print(\"Topic \",i,\": \",topic*100,\"%\")"
   ]
  },
  {
   "cell_type": "markdown",
   "metadata": {
    "_uuid": "d24927b415ef64338a4b99e81c9cafd5225dfae5",
    "id": "NVgtw_L_g8N2"
   },
   "source": [
    "Seperti yang dapat dilihat pada program di atas bahwa Topic 1 lebih dominan daripada topik 0 pada document 0."
   ]
  },
  {
   "cell_type": "code",
   "execution_count": 22,
   "metadata": {
    "_uuid": "3ee132a423ca0bfe3107fa3dd2652d6c33d5bc4d",
    "colab": {
     "base_uri": "https://localhost:8080/"
    },
    "id": "6OFxmyReiZIU",
    "outputId": "b1bcaf42-8225-4399-edfe-04675a969c05"
   },
   "outputs": [
    {
     "name": "stdout",
     "output_type": "stream",
     "text": [
      "Jumlah Topik\t: 2\n",
      "Jumlah kata\t: 1324\n"
     ]
    }
   ],
   "source": [
    "(count_topic_lda, count_word_lda) = lda_model.components_.shape\n",
    "print(f\"Jumlah Topik\\t: {count_topic_lda}\")\n",
    "print(f\"Jumlah kata\\t: {count_word_lda}\")"
   ]
  },
  {
   "cell_type": "markdown",
   "metadata": {
    "_uuid": "8bf169b07cefbe2cd8e36bc1e2bd65ca7c398374",
    "id": "NoEr9qt1jgsM"
   },
   "source": [
    "#### 10 kata paling penting untuk suatu topik"
   ]
  },
  {
   "cell_type": "code",
   "execution_count": 23,
   "metadata": {
    "id": "m7_gJsM6bp36"
   },
   "outputs": [],
   "source": [
    "vocab = vect.get_feature_names_out()\n",
    "\n",
    "def get_important_words(comp, n):\n",
    "    vocab_comp = zip(vocab, comp)\n",
    "    sorted_words = sorted(vocab_comp, key= lambda x:x[1], reverse=True)[:n]\n",
    "    return \" \".join([t[0] for t in sorted_words])"
   ]
  },
  {
   "cell_type": "code",
   "execution_count": 24,
   "metadata": {
    "_uuid": "5c13c5563657ac5103a33615272320065542fb40",
    "colab": {
     "base_uri": "https://localhost:8080/"
    },
    "id": "hKJHM0C-l0an",
    "outputId": "10d34022-43b7-4250-c44f-58298395d3b9"
   },
   "outputs": [
    {
     "name": "stdout",
     "output_type": "stream",
     "text": [
      "Topic 0: \n",
      "yang berganda terhadap variabel pembelian penelitian produk persepsi pada pengaruh\n",
      "\n",
      "Topic 1: \n",
      "dan kerja drs saham merek merchandise ratio penelitian pada ini\n",
      "\n"
     ]
    }
   ],
   "source": [
    "for i, comp in enumerate(lda_model.components_):\n",
    "    print(\"Topic \"+str(i)+\": \")\n",
    "    print(get_important_words(comp, 10))\n",
    "    print(\"\")"
   ]
  },
  {
   "cell_type": "markdown",
   "metadata": {
    "_uuid": "854f0eb88cf78923db8137a2f41581eb9bbd5592",
    "id": "enyXfcF6bp37"
   },
   "source": [
    "#### Visualisasi 50 kata penting menggunakan wordcloud"
   ]
  },
  {
   "cell_type": "code",
   "execution_count": 25,
   "metadata": {
    "_uuid": "5221ae4de021107ef757b87d45053460e50582c8",
    "id": "_ac73PUhmZmn"
   },
   "outputs": [],
   "source": [
    "# Generate a word cloud image for given topic\n",
    "def draw_word_cloud(index):\n",
    "  imp_words_topic = get_important_words(lda_model.components_[index], 50)\n",
    "  \n",
    "  wordcloud = WordCloud(width=600, height=400).generate(imp_words_topic)\n",
    "  plt.figure( figsize=(5,5))\n",
    "  plt.imshow(wordcloud)\n",
    "  plt.axis(\"off\")\n",
    "  plt.tight_layout()\n",
    "  plt.show()\n",
    " "
   ]
  },
  {
   "cell_type": "code",
   "execution_count": 26,
   "metadata": {
    "_uuid": "e5246db8bb1b751a1f3b96bb65d4da9e34dfc2ba",
    "colab": {
     "base_uri": "https://localhost:8080/",
     "height": 251
    },
    "id": "-tD4nZdRqnAk",
    "outputId": "ec2c7882-cc15-42bd-a075-cdc831d9a331"
   },
   "outputs": [
    {
     "data": {
      "image/png": "[encoded data removed]",
      "text/plain": [
       "<Figure size 360x360 with 1 Axes>"
      ]
     },
     "metadata": {
      "filenames": {
       "image/png": "C:\\xampp\\htdocs\\PPW\\PPw\\_build\\jupyter_execute\\model_50_0.png"
      }
     },
     "output_type": "display_data"
    }
   ],
   "source": [
    "draw_word_cloud(0)"
   ]
  },
  {
   "cell_type": "code",
   "execution_count": 27,
   "metadata": {
    "_uuid": "74872c17b12680171090690f62ce77019e03ef52",
    "colab": {
     "base_uri": "https://localhost:8080/",
     "height": 251
    },
    "id": "Jz_zGbSws1ns",
    "outputId": "155930a6-e767-487e-c7f7-ee68ade3ed02"
   },
   "outputs": [
    {
     "data": {
      "image/png": "[encoded data removed]",
      "text/plain": [
       "<Figure size 360x360 with 1 Axes>"
      ]
     },
     "metadata": {
      "filenames": {
       "image/png": "C:\\xampp\\htdocs\\PPW\\PPw\\_build\\jupyter_execute\\model_51_0.png"
      }
     },
     "output_type": "display_data"
    }
   ],
   "source": [
    "draw_word_cloud(1)"
   ]
  }
 ],
 "metadata": {
  "colab": {
   "collapsed_sections": [],
   "name": "model.ipynb",
   "provenance": []
  },
  "kernelspec": {
   "display_name": "Python 3.10.0 64-bit",
   "language": "python",
   "name": "python3"
  },
  "language_info": {
   "codemirror_mode": {
    "name": "ipython",
    "version": 3
   },
   "file_extension": ".py",
   "mimetype": "text/x-python",
   "name": "python",
   "nbconvert_exporter": "python",
   "pygments_lexer": "ipython3",
   "version": "3.10.0"
  },
  "vscode": {
   "interpreter": {
    "hash": "f5f50d25ca3c68e82500d2bc39d9838cca35bd2c245f978e6b5682bdf2dfdf82"
   }
  }
 },
 "nbformat": 4,
 "nbformat_minor": 0
}